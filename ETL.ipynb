{
 "cells": [
  {
   "cell_type": "markdown",
   "metadata": {},
   "source": [
    "## Build a News ETL Data Pipeline Using Python and SQLite"
   ]
  },
  {
   "cell_type": "markdown",
   "metadata": {},
   "source": [
    "### Task 1: Import Libraries and Connect to the News API"
   ]
  },
  {
   "cell_type": "code",
   "execution_count": 2,
   "metadata": {},
   "outputs": [],
   "source": [
    "import pandas as pd\n",
    "import sqlite3\n",
    "import logging\n",
    "from newsapi import NewsApiClient"
   ]
  },
  {
   "cell_type": "markdown",
   "metadata": {},
   "source": [
    "### Task 2: Retrieve and Print News Articles"
   ]
  },
  {
   "cell_type": "code",
   "execution_count": 3,
   "metadata": {},
   "outputs": [],
   "source": [
    "news_api_key = '889a3707d64b4695aabb3a24040c9ab7'\n",
    "\n",
    "news_api = NewsApiClient(api_key = news_api_key)"
   ]
  },
  {
   "cell_type": "code",
   "execution_count": 4,
   "metadata": {},
   "outputs": [
    {
     "name": "stdout",
     "output_type": "stream",
     "text": [
      "[{'source': {'id': None, 'name': 'Biztoc.com'}, 'author': 'coingape.com', 'title': 'Cathie Wood’s Ark Invest Declares Its Holdings In ChatGPT’s OpenAI', 'description': 'Cathie Wood’s Ark Investment has been actively betting on the crypto and AI space, and in its latest disclosure, Ark Invest. disclosed its holdings in ChatGPT’s parent firm OpenAI. Ark Invest’s OpenAI Investment Disclosure On Thursday, April 10, Ark Invest in…', 'url': 'https://biztoc.com/x/a2b0841810524302', 'urlToImage': 'https://c.biztoc.com/p/a2b0841810524302/s.webp', 'publishedAt': '2024-04-12T04:54:06Z', 'content': 'Cathie Woods Ark Investment has been actively betting on the crypto and AI space, and in its latest disclosure, Ark Invest. disclosed its holdings in ChatGPTs parent firm OpenAI.Ark Invests OpenAI In… [+287 chars]'}, {'source': {'id': None, 'name': '[Removed]'}, 'author': None, 'title': '[Removed]', 'description': '[Removed]', 'url': 'https://removed.com', 'urlToImage': None, 'publishedAt': '1970-01-01T00:00:00Z', 'content': '[Removed]'}, {'source': {'id': None, 'name': 'Thaipbsworld.com'}, 'author': 'Marisa Chimprabha (World)', 'title': 'When does “artificial” stop being so?', 'description': 'Many months are still to go for 2024, but perhaps the understatement of the year should go to the one made by Elon Musk, who has predicted a few days...\\nThe post When does “artificial” stop being so? first appeared on Thai PBS World : The latest Thai news in …', 'url': 'https://www.thaipbsworld.com/when-does-artificial-stop-being-so/', 'urlToImage': 'https://www.thaipbsworld.com/wp-content/uploads/2024/04/img_29844_ima1-1000x625-600x375.jpg', 'publishedAt': '2024-04-12T04:52:04Z', 'content': 'Many months are still to go for 2024, but perhaps the understatement of the year should go to the one made by Elon Musk, who has predicted a few days ago that Artificial Intelligence (AI) will be sma… [+5054 chars]'}]\n"
     ]
    }
   ],
   "source": [
    "def extract_news_data():\n",
    "    try:\n",
    "        result = news_api.get_everything(q = \"AI\", language = 'en', sort_by = 'publishedAt')\n",
    "        logging.info('Coneection is successful.')\n",
    "        return result['articles']\n",
    "    except:\n",
    "        logging.error('Connection is unsuccessfull')\n",
    "        return None\n",
    "\n",
    "\n",
    "articles = extract_news_data()\n",
    "\n",
    "print(articles[:3])"
   ]
  },
  {
   "cell_type": "markdown",
   "metadata": {},
   "source": [
    "### Task 3: Clean Author Column"
   ]
  },
  {
   "cell_type": "code",
   "execution_count": 5,
   "metadata": {},
   "outputs": [
    {
     "data": {
      "text/plain": [
       "'No Author'"
      ]
     },
     "execution_count": 5,
     "metadata": {},
     "output_type": "execute_result"
    }
   ],
   "source": [
    "def clean_author_column(text):\n",
    "    try:\n",
    "        result = text.split(',')\n",
    "        return result[0].title()\n",
    "    except AttributeError:\n",
    "        return \"No Author\"\n",
    "\n",
    "\n",
    "clean_author_column(articles[0])"
   ]
  },
  {
   "cell_type": "code",
   "execution_count": 6,
   "metadata": {},
   "outputs": [
    {
     "name": "stdout",
     "output_type": "stream",
     "text": [
      "coingape.com Cathie Wood’s Ark Invest Declares Its Holdings In ChatGPT’s OpenAI 2024-04-12T04:54:06Z Cathie Woods Ark Investment has been actively betting on the crypto and AI space, and in its latest disclosure, Ark Invest. disclosed its holdings in ChatGPTs parent firm OpenAI.Ark Invests OpenAI In… [+287 chars] https://biztoc.com/x/a2b0841810524302\n"
     ]
    }
   ],
   "source": [
    "article = articles[0]\n",
    "author = article['author']\n",
    "title = article['title']\n",
    "publishedAt = article['publishedAt']\n",
    "content = article['content']\n",
    "url = article['url']\n",
    "\n",
    "print(author, title, publishedAt, content, url)"
   ]
  },
  {
   "cell_type": "markdown",
   "metadata": {},
   "source": [
    "### Task 4: Transform News Data"
   ]
  },
  {
   "cell_type": "code",
   "execution_count": 7,
   "metadata": {},
   "outputs": [
    {
     "data": {
      "text/html": [
       "<div>\n",
       "<style scoped>\n",
       "    .dataframe tbody tr th:only-of-type {\n",
       "        vertical-align: middle;\n",
       "    }\n",
       "\n",
       "    .dataframe tbody tr th {\n",
       "        vertical-align: top;\n",
       "    }\n",
       "\n",
       "    .dataframe thead th {\n",
       "        text-align: right;\n",
       "    }\n",
       "</style>\n",
       "<table border=\"1\" class=\"dataframe\">\n",
       "  <thead>\n",
       "    <tr style=\"text-align: right;\">\n",
       "      <th></th>\n",
       "      <th>Source</th>\n",
       "      <th>Author Name</th>\n",
       "      <th>News Title</th>\n",
       "      <th>URL</th>\n",
       "      <th>Date Published</th>\n",
       "      <th>Content</th>\n",
       "    </tr>\n",
       "  </thead>\n",
       "  <tbody>\n",
       "    <tr>\n",
       "      <th>0</th>\n",
       "      <td>0</td>\n",
       "      <td>Coingape.Com</td>\n",
       "      <td>Cathie Wood’s Ark Invest Declares Its Holdings...</td>\n",
       "      <td>https://biztoc.com/x/a2b0841810524302</td>\n",
       "      <td>2024-04-12 04:54:06</td>\n",
       "      <td>Cathie Woods Ark Investment has been actively ...</td>\n",
       "    </tr>\n",
       "    <tr>\n",
       "      <th>1</th>\n",
       "      <td>0</td>\n",
       "      <td>No Author</td>\n",
       "      <td>[Removed]</td>\n",
       "      <td>https://removed.com</td>\n",
       "      <td>1970-01-01 00:00:00</td>\n",
       "      <td>[Removed]</td>\n",
       "    </tr>\n",
       "    <tr>\n",
       "      <th>2</th>\n",
       "      <td>0</td>\n",
       "      <td>Marisa Chimprabha (World)</td>\n",
       "      <td>When does “artificial” stop being so?</td>\n",
       "      <td>https://www.thaipbsworld.com/when-does-artific...</td>\n",
       "      <td>2024-04-12 04:52:04</td>\n",
       "      <td>Many months are still to go for 2024, but perh...</td>\n",
       "    </tr>\n",
       "    <tr>\n",
       "      <th>3</th>\n",
       "      <td>0</td>\n",
       "      <td>John Callaham</td>\n",
       "      <td>VPN by Google One is shutting down less than f...</td>\n",
       "      <td>https://www.neowin.net/news/vpn-by-google-one-...</td>\n",
       "      <td>2024-04-12 04:52:01</td>\n",
       "      <td>In October 2020, Google added a new feature as...</td>\n",
       "    </tr>\n",
       "    <tr>\n",
       "      <th>4</th>\n",
       "      <td>0</td>\n",
       "      <td>Daniel Calbimonte</td>\n",
       "      <td>AZ-500 Microsoft Azure Security Exam Study Guide</td>\n",
       "      <td>https://www.mssqltips.com/sqlservertip/7953/az...</td>\n",
       "      <td>2024-04-12 04:50:40</td>\n",
       "      <td>By: Daniel Calbimonte   |  \\r\\nUpdated: 2024-0...</td>\n",
       "    </tr>\n",
       "    <tr>\n",
       "      <th>...</th>\n",
       "      <td>...</td>\n",
       "      <td>...</td>\n",
       "      <td>...</td>\n",
       "      <td>...</td>\n",
       "      <td>...</td>\n",
       "      <td>...</td>\n",
       "    </tr>\n",
       "    <tr>\n",
       "      <th>95</th>\n",
       "      <td>0</td>\n",
       "      <td>Investing.Com</td>\n",
       "      <td>GigaCloud Technology CEO Lei Wu sells shares w...</td>\n",
       "      <td>https://www.investing.com/news/company-news/gi...</td>\n",
       "      <td>2024-04-12 01:43:10</td>\n",
       "      <td>GigaCloud Technology Inc (NASDAQ:GCT) has repo...</td>\n",
       "    </tr>\n",
       "    <tr>\n",
       "      <th>96</th>\n",
       "      <td>0</td>\n",
       "      <td>Gigazine（ギガジン）</td>\n",
       "      <td>AppleはAIに最適化した「M4チップ」を2024年中にリリースすることを目指している</td>\n",
       "      <td>https://news.livedoor.com/article/detail/26215...</td>\n",
       "      <td>2024-04-12 01:42:00</td>\n",
       "      <td>AppleAIM42024AppleBloomberg\\r\\nApple (AAPL) Re...</td>\n",
       "    </tr>\n",
       "    <tr>\n",
       "      <th>97</th>\n",
       "      <td>0</td>\n",
       "      <td>Volkmar Richter</td>\n",
       "      <td>MOVIES: Civil War's extreme US future, Food In...</td>\n",
       "      <td>https://www.nationalobserver.com/2024/04/11/re...</td>\n",
       "      <td>2024-04-12 01:39:53</td>\n",
       "      <td>The film I've been most anticipating is finall...</td>\n",
       "    </tr>\n",
       "    <tr>\n",
       "      <th>98</th>\n",
       "      <td>0</td>\n",
       "      <td>Toi Tech Desk</td>\n",
       "      <td>Microsoft to Windows 10 users: It may be time ...</td>\n",
       "      <td>https://timesofindia.indiatimes.com/technology...</td>\n",
       "      <td>2024-04-12 01:35:55</td>\n",
       "      <td>The TOI Tech Desk is a dedicated team of journ...</td>\n",
       "    </tr>\n",
       "    <tr>\n",
       "      <th>99</th>\n",
       "      <td>0</td>\n",
       "      <td>No Author</td>\n",
       "      <td>Facebook's AI failure wiped out Kansas Reflect...</td>\n",
       "      <td>https://www.memeorandum.com/240411/p84</td>\n",
       "      <td>2024-04-12 01:35:00</td>\n",
       "      <td>memeorandum is an auto-generated summary of th...</td>\n",
       "    </tr>\n",
       "  </tbody>\n",
       "</table>\n",
       "<p>100 rows × 6 columns</p>\n",
       "</div>"
      ],
      "text/plain": [
       "    Source                Author Name  \\\n",
       "0        0               Coingape.Com   \n",
       "1        0                  No Author   \n",
       "2        0  Marisa Chimprabha (World)   \n",
       "3        0              John Callaham   \n",
       "4        0          Daniel Calbimonte   \n",
       "..     ...                        ...   \n",
       "95       0              Investing.Com   \n",
       "96       0             Gigazine（ギガジン）   \n",
       "97       0            Volkmar Richter   \n",
       "98       0              Toi Tech Desk   \n",
       "99       0                  No Author   \n",
       "\n",
       "                                           News Title  \\\n",
       "0   Cathie Wood’s Ark Invest Declares Its Holdings...   \n",
       "1                                           [Removed]   \n",
       "2               When does “artificial” stop being so?   \n",
       "3   VPN by Google One is shutting down less than f...   \n",
       "4    AZ-500 Microsoft Azure Security Exam Study Guide   \n",
       "..                                                ...   \n",
       "95  GigaCloud Technology CEO Lei Wu sells shares w...   \n",
       "96       AppleはAIに最適化した「M4チップ」を2024年中にリリースすることを目指している   \n",
       "97  MOVIES: Civil War's extreme US future, Food In...   \n",
       "98  Microsoft to Windows 10 users: It may be time ...   \n",
       "99  Facebook's AI failure wiped out Kansas Reflect...   \n",
       "\n",
       "                                                  URL       Date Published  \\\n",
       "0               https://biztoc.com/x/a2b0841810524302  2024-04-12 04:54:06   \n",
       "1                                 https://removed.com  1970-01-01 00:00:00   \n",
       "2   https://www.thaipbsworld.com/when-does-artific...  2024-04-12 04:52:04   \n",
       "3   https://www.neowin.net/news/vpn-by-google-one-...  2024-04-12 04:52:01   \n",
       "4   https://www.mssqltips.com/sqlservertip/7953/az...  2024-04-12 04:50:40   \n",
       "..                                                ...                  ...   \n",
       "95  https://www.investing.com/news/company-news/gi...  2024-04-12 01:43:10   \n",
       "96  https://news.livedoor.com/article/detail/26215...  2024-04-12 01:42:00   \n",
       "97  https://www.nationalobserver.com/2024/04/11/re...  2024-04-12 01:39:53   \n",
       "98  https://timesofindia.indiatimes.com/technology...  2024-04-12 01:35:55   \n",
       "99             https://www.memeorandum.com/240411/p84  2024-04-12 01:35:00   \n",
       "\n",
       "                                              Content  \n",
       "0   Cathie Woods Ark Investment has been actively ...  \n",
       "1                                           [Removed]  \n",
       "2   Many months are still to go for 2024, but perh...  \n",
       "3   In October 2020, Google added a new feature as...  \n",
       "4   By: Daniel Calbimonte   |  \\r\\nUpdated: 2024-0...  \n",
       "..                                                ...  \n",
       "95  GigaCloud Technology Inc (NASDAQ:GCT) has repo...  \n",
       "96  AppleAIM42024AppleBloomberg\\r\\nApple (AAPL) Re...  \n",
       "97  The film I've been most anticipating is finall...  \n",
       "98  The TOI Tech Desk is a dedicated team of journ...  \n",
       "99  memeorandum is an auto-generated summary of th...  \n",
       "\n",
       "[100 rows x 6 columns]"
      ]
     },
     "execution_count": 7,
     "metadata": {},
     "output_type": "execute_result"
    }
   ],
   "source": [
    "def transform_news_data(articles):\n",
    "    article_list = []\n",
    "\n",
    "    for article in articles:\n",
    "        lis = []\n",
    "        for key, value in article.items():\n",
    "            if key in ['author', 'title', 'publishedAt', 'content', 'url', 'source']:\n",
    "                if key == 'source':\n",
    "                    lis.append(article.get('name', 0))\n",
    "                else:\n",
    "                    lis.append(value)\n",
    "        \n",
    "        article_list.append(lis)\n",
    "\n",
    "    df = pd.DataFrame(article_list, columns= ['Source', 'Author Name', 'News Title', 'URL', 'Date Published', 'Content']) \n",
    "\n",
    "    df['Date Published'] = pd.to_datetime(df['Date Published']).dt.strftime('%Y-%m-%d %H:%M:%S')\n",
    "\n",
    "    df['Author Name'] = df['Author Name'].apply(clean_author_column)\n",
    "\n",
    "    return df\n",
    "\n",
    "transformed_data = transform_news_data(articles)\n",
    "\n",
    "transformed_data      \n"
   ]
  },
  {
   "cell_type": "markdown",
   "metadata": {},
   "source": [
    "### Task 5: Load the Data into SQLite Database\n"
   ]
  },
  {
   "cell_type": "code",
   "execution_count": 8,
   "metadata": {},
   "outputs": [],
   "source": [
    "def load_news_data(data):\n",
    "    with sqlite3.connect(\"/usercode/news_data.sqlite\") as connection:\n",
    "        cursor = connection.cursor()\n",
    "        cursor.execute('''\n",
    "            CREATE TABLE IF NOT EXISTS news_table (\n",
    "                \"Source\" VARCHAR(30),\n",
    "                \"Author Name\" TEXT,\n",
    "                \"News Title\" TEXT,\n",
    "                \"URL\" TEXT,\n",
    "                \"Date Published\" TEXT,\n",
    "                \"Content\" TEXT\n",
    "            )\n",
    "        ''')\n",
    "    data.to_sql(name=\"news_table\", con=connection, index=False, if_exists=\"append\")\n",
    "\n",
    "load_news_data(transformed_data)"
   ]
  },
  {
   "cell_type": "markdown",
   "metadata": {},
   "source": [
    "### Task 8: Verify Data Loading"
   ]
  },
  {
   "cell_type": "code",
   "execution_count": 9,
   "metadata": {},
   "outputs": [
    {
     "ename": "DatabaseError",
     "evalue": "Execution failed on sql 'SELECT * FROM news_table;': no such table: news_table",
     "output_type": "error",
     "traceback": [
      "\u001b[0;31m---------------------------------------------------------------------------\u001b[0m",
      "\u001b[0;31mOperationalError\u001b[0m                          Traceback (most recent call last)",
      "File \u001b[0;32m/usr/local/lib/python3.8/dist-packages/pandas/io/sql.py:2202\u001b[0m, in \u001b[0;36mSQLiteDatabase.execute\u001b[0;34m(self, sql, params)\u001b[0m\n\u001b[1;32m   2201\u001b[0m \u001b[39mtry\u001b[39;00m:\n\u001b[0;32m-> 2202\u001b[0m     cur\u001b[39m.\u001b[39;49mexecute(sql, \u001b[39m*\u001b[39;49margs)\n\u001b[1;32m   2203\u001b[0m     \u001b[39mreturn\u001b[39;00m cur\n",
      "\u001b[0;31mOperationalError\u001b[0m: no such table: news_table",
      "\nThe above exception was the direct cause of the following exception:\n",
      "\u001b[0;31mDatabaseError\u001b[0m                             Traceback (most recent call last)",
      "Cell \u001b[0;32mIn[9], line 2\u001b[0m\n\u001b[1;32m      1\u001b[0m \u001b[39mwith\u001b[39;00m sqlite3\u001b[39m.\u001b[39mconnect(\u001b[39m\"\u001b[39m\u001b[39m/usercode/etl_news_data.sqlite\u001b[39m\u001b[39m\"\u001b[39m) \u001b[39mas\u001b[39;00m connection:\n\u001b[0;32m----> 2\u001b[0m     df \u001b[39m=\u001b[39m pd\u001b[39m.\u001b[39;49mread_sql(\u001b[39m\"\u001b[39;49m\u001b[39mSELECT * FROM news_table;\u001b[39;49m\u001b[39m\"\u001b[39;49m, connection)\n\u001b[1;32m      3\u001b[0m df\u001b[39m.\u001b[39mhead()\n",
      "File \u001b[0;32m/usr/local/lib/python3.8/dist-packages/pandas/io/sql.py:635\u001b[0m, in \u001b[0;36mread_sql\u001b[0;34m(sql, con, index_col, coerce_float, params, parse_dates, columns, chunksize, dtype_backend, dtype)\u001b[0m\n\u001b[1;32m    633\u001b[0m \u001b[39mwith\u001b[39;00m pandasSQL_builder(con) \u001b[39mas\u001b[39;00m pandas_sql:\n\u001b[1;32m    634\u001b[0m     \u001b[39mif\u001b[39;00m \u001b[39misinstance\u001b[39m(pandas_sql, SQLiteDatabase):\n\u001b[0;32m--> 635\u001b[0m         \u001b[39mreturn\u001b[39;00m pandas_sql\u001b[39m.\u001b[39;49mread_query(\n\u001b[1;32m    636\u001b[0m             sql,\n\u001b[1;32m    637\u001b[0m             index_col\u001b[39m=\u001b[39;49mindex_col,\n\u001b[1;32m    638\u001b[0m             params\u001b[39m=\u001b[39;49mparams,\n\u001b[1;32m    639\u001b[0m             coerce_float\u001b[39m=\u001b[39;49mcoerce_float,\n\u001b[1;32m    640\u001b[0m             parse_dates\u001b[39m=\u001b[39;49mparse_dates,\n\u001b[1;32m    641\u001b[0m             chunksize\u001b[39m=\u001b[39;49mchunksize,\n\u001b[1;32m    642\u001b[0m             dtype_backend\u001b[39m=\u001b[39;49mdtype_backend,  \u001b[39m# type: ignore[arg-type]\u001b[39;49;00m\n\u001b[1;32m    643\u001b[0m             dtype\u001b[39m=\u001b[39;49mdtype,\n\u001b[1;32m    644\u001b[0m         )\n\u001b[1;32m    646\u001b[0m     \u001b[39mtry\u001b[39;00m:\n\u001b[1;32m    647\u001b[0m         _is_table_name \u001b[39m=\u001b[39m pandas_sql\u001b[39m.\u001b[39mhas_table(sql)\n",
      "File \u001b[0;32m/usr/local/lib/python3.8/dist-packages/pandas/io/sql.py:2266\u001b[0m, in \u001b[0;36mSQLiteDatabase.read_query\u001b[0;34m(self, sql, index_col, coerce_float, parse_dates, params, chunksize, dtype, dtype_backend)\u001b[0m\n\u001b[1;32m   2255\u001b[0m \u001b[39mdef\u001b[39;00m \u001b[39mread_query\u001b[39m(\n\u001b[1;32m   2256\u001b[0m     \u001b[39mself\u001b[39m,\n\u001b[1;32m   2257\u001b[0m     sql,\n\u001b[0;32m   (...)\u001b[0m\n\u001b[1;32m   2264\u001b[0m     dtype_backend: DtypeBackend \u001b[39m|\u001b[39m Literal[\u001b[39m\"\u001b[39m\u001b[39mnumpy\u001b[39m\u001b[39m\"\u001b[39m] \u001b[39m=\u001b[39m \u001b[39m\"\u001b[39m\u001b[39mnumpy\u001b[39m\u001b[39m\"\u001b[39m,\n\u001b[1;32m   2265\u001b[0m ) \u001b[39m-\u001b[39m\u001b[39m>\u001b[39m DataFrame \u001b[39m|\u001b[39m Iterator[DataFrame]:\n\u001b[0;32m-> 2266\u001b[0m     cursor \u001b[39m=\u001b[39m \u001b[39mself\u001b[39;49m\u001b[39m.\u001b[39;49mexecute(sql, params)\n\u001b[1;32m   2267\u001b[0m     columns \u001b[39m=\u001b[39m [col_desc[\u001b[39m0\u001b[39m] \u001b[39mfor\u001b[39;00m col_desc \u001b[39min\u001b[39;00m cursor\u001b[39m.\u001b[39mdescription]\n\u001b[1;32m   2269\u001b[0m     \u001b[39mif\u001b[39;00m chunksize \u001b[39mis\u001b[39;00m \u001b[39mnot\u001b[39;00m \u001b[39mNone\u001b[39;00m:\n",
      "File \u001b[0;32m/usr/local/lib/python3.8/dist-packages/pandas/io/sql.py:2214\u001b[0m, in \u001b[0;36mSQLiteDatabase.execute\u001b[0;34m(self, sql, params)\u001b[0m\n\u001b[1;32m   2211\u001b[0m     \u001b[39mraise\u001b[39;00m ex \u001b[39mfrom\u001b[39;00m \u001b[39minner_exc\u001b[39;00m\n\u001b[1;32m   2213\u001b[0m ex \u001b[39m=\u001b[39m DatabaseError(\u001b[39mf\u001b[39m\u001b[39m\"\u001b[39m\u001b[39mExecution failed on sql \u001b[39m\u001b[39m'\u001b[39m\u001b[39m{\u001b[39;00msql\u001b[39m}\u001b[39;00m\u001b[39m'\u001b[39m\u001b[39m: \u001b[39m\u001b[39m{\u001b[39;00mexc\u001b[39m}\u001b[39;00m\u001b[39m\"\u001b[39m)\n\u001b[0;32m-> 2214\u001b[0m \u001b[39mraise\u001b[39;00m ex \u001b[39mfrom\u001b[39;00m \u001b[39mexc\u001b[39;00m\n",
      "\u001b[0;31mDatabaseError\u001b[0m: Execution failed on sql 'SELECT * FROM news_table;': no such table: news_table"
     ]
    }
   ],
   "source": [
    "with sqlite3.connect(\"/usercode/etl_news_data.sqlite\") as connection:\n",
    "    df = pd.read_sql(\"SELECT * FROM news_table;\", connection)\n",
    "\n",
    "df.head()"
   ]
  },
  {
   "cell_type": "code",
   "execution_count": null,
   "metadata": {},
   "outputs": [],
   "source": []
  }
 ],
 "metadata": {
  "kernelspec": {
   "display_name": "Python 3",
   "language": "python",
   "name": "python3"
  },
  "language_info": {
   "codemirror_mode": {
    "name": "ipython",
    "version": 3
   },
   "file_extension": ".py",
   "mimetype": "text/x-python",
   "name": "python",
   "nbconvert_exporter": "python",
   "pygments_lexer": "ipython3",
   "version": "3.8.10"
  },
  "orig_nbformat": 4,
  "vscode": {
   "interpreter": {
    "hash": "916dbcbb3f70747c44a77c7bcd40155683ae19c65e1c03b4aa3499c5328201f1"
   }
  }
 },
 "nbformat": 4,
 "nbformat_minor": 2
}
